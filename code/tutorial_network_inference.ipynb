{
 "cells": [
  {
   "cell_type": "markdown",
   "metadata": {},
   "source": [
    "# Generate some random expression data for the tutorial\n",
    "Dataset with 30 samples and 5 genes"
   ]
  },
  {
   "cell_type": "code",
   "execution_count": 1,
   "metadata": {},
   "outputs": [],
   "source": [
    "from numpy.random import multivariate_normal, rand, seed\n",
    "from scipy import random, linalg\n",
    "import numpy as np\n",
    "\n",
    "seed(123)\n",
    "\n",
    "nsamples_LS = 100\n",
    "nsamples_VS = 50\n",
    "ngenes = 5\n",
    "\n",
    "mean = np.zeros(ngenes)\n",
    "\n",
    "A = rand(ngenes, ngenes)\n",
    "B = np.dot(A, A.transpose())\n",
    "\n",
    "dataLS = multivariate_normal(mean, B, size=nsamples_LS)\n",
    "dataVS = multivariate_normal(mean, B, size=nsamples_VS)"
   ]
  },
  {
   "cell_type": "markdown",
   "metadata": {},
   "source": [
    "# Network inference with PRS\n",
    "\n",
    "### Input arguments of `PRS_network`:\n",
    "\n",
    "**PRS_network**(*dataLS, dataVS, estimator, estimator_kwargs, input_indices=None, normalize_data=True,\n",
    "                alphas_init=None, lambda_reg=0, nmodels=100, batch_size=None, train_size=None,\n",
    "                nepochs=3000, learning_rate=0.001, rho1=0.9, rho2=0.999, variance_reduction=True, random_seed=100*)\n",
    "\n",
    "\n",
    "**dataLS**: Array of shape (n_samples_LS, n_genes). Gene expression, training dataset.\n",
    "\n",
    "**dataVS**: Array of shape (n_samples_VS, n_genes). Gene expression, validation dataset.\n",
    "\n",
    "**estimator**: scikit-learn learner class (type of base learner).\n",
    "\n",
    "**estimator_kwargs**: dictionary containing the hyper-parameters of the estimator. The dictionary does not need to contain all the hyper-parameter values. When a hyper-parameter is missing from the dictionary, it is set to the default value used by scikit-learn.\n",
    "\n",
    "**input_indices**: indices of the candidate regulators among the genes. If _None_, all the genes are candidate regulators. default=_None_\n",
    "\n",
    "**normalize_data**: Boolean indicating if data must be normalized. default=_True_\n",
    "\n",
    "**alphas_init**: Array of shape (n_reg, n_genes), *float* or *None*. Initial values of the feature selection probabilities alphas. n_reg is the number of candidate regulators (= length of input_indices). If *float*, all alphas are initialised at that value. If *None*, all alphas are initialized to 5/nmodels. default=_None_\n",
    "\n",
    "**lambda_reg**: *float*. Value of the regularisation coefficient for structured sparsity constraint (hyper-parameter *lambda* in the paper). default=0.0\n",
    "\n",
    "**nmodels**: *int*. Number of base models in each PRS ensemble. default=100\n",
    "\n",
    "**batch_size**: *int* or *None*. Number of samples in each mini-batch. If *None*, the mini-batch size is set to 10% of the training set size. default=_None_\n",
    "\n",
    "**train_size**: *int* or *None*.  Number of samples used to train each base model. If *None*, train_size = original training set size - batch_size. default=_None_\n",
    "\n",
    "**nepochs**: *int*. Number of epochs of the training algorithm. default=3000\n",
    "\n",
    "**learning_rate**: *float*. Learning rate of the Adam algorithm. default=0.001\n",
    "\n",
    "**rho1**: *float*. Hyper-parameter rho1 of the Adam algorithm. default=0.9\n",
    "\n",
    "**rho2**: *float*. Hyper-parameter rho2 of the Adam algorithm. default=0.999\n",
    "\n",
    "**variance_reduction**: Boolean indicating whether or not to apply the variance reduction technique with baseline. default=_True_\n",
    "\n",
    "**random_seed**: *int*. Random seed. default=100\n",
    "\n",
    "\n",
    "### Output of `PRS_network`:\n",
    "Tuple *(alphas, objective_values_LS, objective_values_VS, error_VS, train_indices)*.\n",
    "\n",
    "**alphas**: Array of shape (n_reg, n_genes). Trained alphas values. Element [i, j] is the probability of selecting the i-th candidate regulator in the model predicting the j-th gene. \n",
    "\n",
    "**objective_values_LS**: Array of shape (nepochs+1,). Values of the objective function at each epoch on the learning set.\n",
    "\n",
    "**objective_values_VS**: Array of shape (nepochs+1,). Values of the objective function at each epoch on the validation set.\n",
    "\n",
    "**error_VS**: mean squared error on the validation set\n",
    "\n",
    "**train_indices**: Indices of the epochs where new models were learned.\n"
   ]
  },
  {
   "cell_type": "code",
   "execution_count": 2,
   "metadata": {},
   "outputs": [
    {
     "name": "stdout",
     "output_type": "stream",
     "text": [
      "alphas:\n",
      "[[0.         0.2872353  0.22302146 0.42556316 0.33350409]\n",
      " [0.25842292 0.         0.40030592 0.21928137 0.36918163]\n",
      " [0.26394358 0.3818888  0.         0.13731811 0.35242055]\n",
      " [0.41350084 0.24756593 0.21919983 0.         0.32547656]\n",
      " [0.35407651 0.3840853  0.37147582 0.37942628 0.        ]]\n",
      "\n",
      "\n",
      "Average subspace size: 1.27\n"
     ]
    }
   ],
   "source": [
    "from PRS_network import PRS_network\n",
    "\n",
    "# Base learner = kNN with default hyper-parameters\n",
    "from sklearn.neighbors import KNeighborsRegressor\n",
    "estimator = KNeighborsRegressor\n",
    "estimator_kwargs = dict()\n",
    "\n",
    "# Note: we use here nepochs=50 to speed up the computation in this tutorial.\n",
    "# This hyper-parameter should however be set to a higher value in practice.\n",
    "alphas, objective_values_LS, objective_values_VS, error_VS, train_indices = PRS_network(dataLS, dataVS,\n",
    "                                                                                        estimator, estimator_kwargs,\n",
    "                                                                                        nepochs=50)\n",
    "\n",
    "\n",
    "print('alphas:')\n",
    "print(alphas)\n",
    "\n",
    "print('\\n')\n",
    "\n",
    "print('Average subspace size: %.2f' % np.mean(np.sum(alphas, axis=0)))\n"
   ]
  },
  {
   "cell_type": "markdown",
   "metadata": {},
   "source": [
    "### Plot objective function across iterations"
   ]
  },
  {
   "cell_type": "code",
   "execution_count": 3,
   "metadata": {},
   "outputs": [
    {
     "data": {
      "image/png": "[encoded data removed]",
      "text/plain": [
       "<Figure size 432x288 with 1 Axes>"
      ]
     },
     "metadata": {
      "needs_background": "light"
     },
     "output_type": "display_data"
    }
   ],
   "source": [
    "import matplotlib.pyplot as plt\n",
    "\n",
    "plt.plot(objective_values_LS, label='LS')\n",
    "plt.plot(objective_values_VS, label='VS')\n",
    "plt.xlabel('Iterations')\n",
    "plt.ylabel('Objective function value')\n",
    "plt.legend()\n",
    "plt.show()"
   ]
  },
  {
   "cell_type": "markdown",
   "metadata": {},
   "source": [
    "# Network inference with RaSE\n",
    "\n",
    "### Input arguments of `rase_network`:\n",
    "\n",
    "**rase_network**(*dataLS, dataVS, estimator, estimator_kwargs, input_indices=None, normalize_data=True,\n",
    "                 niterations=10, nmodels=100, B=500, D=None, C0=0.1, random_seed=100, nthreads=1*)\n",
    "\n",
    "\n",
    "**dataLS**: Array of shape (n_samples_LS, n_genes). Gene expression, training dataset.\n",
    "\n",
    "**dataVS**: Array of shape (n_samples_VS, n_genes). Gene expression, validation dataset.\n",
    "\n",
    "**estimator**: scikit-learn learner class (type of base learner).\n",
    "\n",
    "**estimator_kwargs**: dictionary containing the hyper-parameters of the estimator. The dictionary does not need to contain all the hyper-parameter values. When a hyper-parameter is missing from the dictionary, it is set to the default value used by scikit-learn.\n",
    "\n",
    "**input_indices**: indices of the candidate regulators among the genes. If _None_, all the genes are candidate regulators. default=_None_\n",
    "\n",
    "**normalize_data**: Boolean indicating if data must be normalized. default=_True_\n",
    "\n",
    "**niterations**: *int*. Number of iterations. default=10\n",
    "\n",
    "**nmodels**: *int*. Number of base models in the ensemble. default=100\n",
    "\n",
    "**B**: *int*. Number of subspace candidates generated for each base model. default=500\n",
    "\n",
    "**D**: *int*. Maximal subspace size when generating random subspaces. If None, D is set to min(sqrt(n_samples_LS), nfeatures). default=_None_\n",
    "\n",
    "**C0**: *float*. Positive constant used to set the minimum feature selection probability. default=0.1\n",
    "\n",
    "**random_seed**: *int*. Random seed. default=100\n",
    "\n",
    "**nthreads**: *int*. Number of threads used for parallel computing. default=1\n",
    "\n",
    "\n",
    "### Output of `rase_network`:\n",
    "Tuple *(importances, subspace_sizes)*.\n",
    "\n",
    "**importances**: Array of shape (n_reg, n_genes), where the element [i,j] is the importance of the i-th candidate regulator for the j-th target gene. n_reg is the number of candidate regulators.\n",
    "\n",
    "**subspace_sizes**: Array of shape (nmodels, n_genes), where the j-th column contains the subspace sizes for the j-th trained ensemble.\n"
   ]
  },
  {
   "cell_type": "code",
   "execution_count": 4,
   "metadata": {},
   "outputs": [
    {
     "name": "stdout",
     "output_type": "stream",
     "text": [
      "running single threaded jobs\n",
      "Gene 1/5...\n",
      "Gene 2/5...\n",
      "Gene 3/5...\n",
      "Gene 4/5...\n",
      "Gene 5/5...\n",
      "Elapsed time: 66.18 seconds\n",
      "Importances:\n",
      "[[0.  0.8 0.  1.  1. ]\n",
      " [0.  0.  1.  0.  1. ]\n",
      " [0.  0.2 0.  0.1 0. ]\n",
      " [1.  0.  0.  0.  0. ]\n",
      " [0.5 1.  0.7 0.  0. ]]\n",
      "\n",
      "\n",
      "Average subspace size: 1.66\n"
     ]
    }
   ],
   "source": [
    "from rase_network import rase_network\n",
    "\n",
    "# Base learner = kNN with default hyper-parameters\n",
    "from sklearn.neighbors import KNeighborsRegressor\n",
    "estimator = KNeighborsRegressor\n",
    "estimator_kwargs = dict()\n",
    "\n",
    "# The input arguments nmodels and B are set to small values here to speed up the tutorial,\n",
    "# but should be increased in practice\n",
    "importances, subspace_sizes = rase_network(dataLS, dataVS, estimator, estimator_kwargs,\n",
    "                                           normalize_data=True, niterations=3, nmodels=10, B=50)\n",
    "\n",
    "\n",
    "print('Importances:')\n",
    "print(importances)\n",
    "\n",
    "print('\\n')\n",
    "\n",
    "print('Average subspace size: %.2f' % subspace_sizes.mean())"
   ]
  },
  {
   "cell_type": "code",
   "execution_count": null,
   "metadata": {},
   "outputs": [],
   "source": []
  }
 ],
 "metadata": {
  "kernelspec": {
   "display_name": "Python 3 (ipykernel)",
   "language": "python",
   "name": "python3"
  },
  "language_info": {
   "codemirror_mode": {
    "name": "ipython",
    "version": 3
   },
   "file_extension": ".py",
   "mimetype": "text/x-python",
   "name": "python",
   "nbconvert_exporter": "python",
   "pygments_lexer": "ipython3",
   "version": "3.9.7"
  }
 },
 "nbformat": 4,
 "nbformat_minor": 4
}

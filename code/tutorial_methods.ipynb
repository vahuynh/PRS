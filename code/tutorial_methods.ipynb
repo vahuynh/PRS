{
 "cells": [
  {
   "cell_type": "code",
   "execution_count": 1,
   "metadata": {},
   "outputs": [],
   "source": [
    "import numpy as np\n",
    "from sklearn.model_selection import train_test_split\n",
    "from sklearn.metrics import accuracy_score, average_precision_score\n",
    "\n",
    "import matplotlib.pyplot as plt\n",
    "%matplotlib inline"
   ]
  },
  {
   "cell_type": "markdown",
   "metadata": {},
   "source": [
    "# Generate some data for the tutorial\n",
    "This is the Hypercube problem with 10 features, where the first 5 features are relevant."
   ]
  },
  {
   "cell_type": "code",
   "execution_count": 2,
   "metadata": {},
   "outputs": [],
   "source": [
    "from sklearn.datasets import make_classification\n",
    "\n",
    "n_features = 10\n",
    "\n",
    "X, y = make_classification(n_samples=400, n_features=n_features, n_informative=5, n_redundant=0, shuffle=False, random_state=123)\n",
    "\n",
    "# The five first features are truly relevant\n",
    "indices_relevant_features = np.zeros(10)\n",
    "indices_relevant_features[:5] = 1"
   ]
  },
  {
   "cell_type": "markdown",
   "metadata": {},
   "source": [
    "Divide into training, validation and test sets"
   ]
  },
  {
   "cell_type": "code",
   "execution_count": 3,
   "metadata": {},
   "outputs": [],
   "source": [
    "# (XLS, yLS) = training set\n",
    "XLS, X_tmp, yLS, y_tmp = train_test_split(X, y, train_size=200, random_state=123, stratify=y)\n",
    "\n",
    "# (XVS, yVS) = validation set\n",
    "# (XTS, yTS) = test set\n",
    "XVS, XTS, yVS, yTS = train_test_split(X_tmp, y_tmp, train_size=100, random_state=123, stratify=y_tmp)"
   ]
  },
  {
   "cell_type": "markdown",
   "metadata": {},
   "source": [
    "# PRS (Parametric Random Subspace)\n",
    "\n",
    "### Input arguments of `PRS`:\n",
    "\n",
    "**PRS**(*XLS, yLS, XVS, yVS, estimator, estimator_kwargs, isClassification, normalize_data=True, XTS=None,\n",
    "        alphas_init=None, lambda_reg=0, nmodels=100, batch_size=None, train_size=None,\n",
    "        nepochs=3000, learning_rate=0.001, rho1=0.9, rho2=0.999,\n",
    "        variance_reduction=True, random_seed=100*)\n",
    "          \n",
    "\n",
    "**XLS**: Array of shape (n_samples_LS, n_features). Training input samples.\n",
    "\n",
    "**yLS**: Array of shape (n_samples_LS,). Training output samples.\n",
    "\n",
    "**XVS**: Array of shape (n_samples_VS, n_features). Validation input samples.\n",
    "\n",
    "**yVS**: Array of shape (n_samples_VS,). Validation output samples.\n",
    "\n",
    "**estimator**: scikit-learn learner class (type of base learner).\n",
    "\n",
    "**estimator_kwargs**: dictionary containing the hyper-parameters of the estimator. The dictionary does not need to contain all the hyper-parameter values. When a hyper-parameter is missing from the dictionary, it is set to the default value used by scikit-learn.\n",
    "\n",
    "**isClassification**: Boolean indicating if this is a classification problem or not (otherwise it is a regression problem).\n",
    "\n",
    "**normalize_data**: Boolean indicating if input data must be normalized. default=_True_\n",
    "\n",
    "**XTS**: Array of shape (n_samples_TS, n_features). Test input samples. default=_None_\n",
    "\n",
    "**alphas_init**: Array of shape (n_features,), *float* or *None*. Initial values of the feature selection probabilities alphas. If *float*, all alphas are initialised at that value. If *None*, all alphas are initialized to 5/nmodels. default=_None_\n",
    "\n",
    "**lambda_reg**: *float*. Value of the regularisation coefficient (hyper-parameter *lambda* in the paper). default=0.0\n",
    "\n",
    "**nmodels**: *int*. Number of base models in the PRS ensemble. default=100\n",
    "\n",
    "**batch_size**: *int* or *None*. Number of samples in each mini-batch. If *None*, the mini-batch size is set to 10% of the training set size. default=_None_\n",
    "\n",
    "**train_size**: *int* or *None*.  Number of samples used to train each base model. If *None*, train_size = original training set size - batch_size. default=_None_\n",
    "\n",
    "**nepochs**: *int*. Number of epochs of the training algorithm. default=3000\n",
    "\n",
    "**learning_rate**: *float*. Learning rate of the Adam algorithm. default=0.001\n",
    "\n",
    "**rho1**: *float*. Hyper-parameter rho1 of the Adam algorithm. default=0.9\n",
    "\n",
    "**rho2**: *float*. Hyper-parameter rho2 of the Adam algorithm. default=0.999\n",
    "\n",
    "**variance_reduction**: Boolean indicating whether or not to apply the variance reduction technique with baseline. default=_True_\n",
    "\n",
    "**random_seed**: *int*. Random seed. default=100\n",
    "\n",
    "\n",
    "### Output of `PRS`:\n",
    "Tuple *(alphas, objective_values_LS, objective_values_VS, train_indices, yVSpred, yTSpred)*.\n",
    "\n",
    "**alphas**: Array of shape (n_features,). Trained alphas values.\n",
    "\n",
    "**objective_values_LS**: Array of shape (nepochs+1,). Values of the objective function at each epoch on the learning set.\n",
    "\n",
    "**objective_values_VS**: Array of shape (nepochs+1,). Values of the objective function at each epoch on the validation set.\n",
    "\n",
    "**train_indices**: Indices of the epochs where new models were learned.\n",
    "\n",
    "**yVSpred**: Array of shape (n_samples_VS, ). Predictions of the trained PRS model on the validation set.\n",
    "\n",
    "**yTSpred**: Array of shape (n_samples_TS, ). Predictions of the trained PRS model on the test set. yTSpred=numpy.nan if XTS is None.\n"
   ]
  },
  {
   "cell_type": "code",
   "execution_count": 4,
   "metadata": {},
   "outputs": [
    {
     "name": "stdout",
     "output_type": "stream",
     "text": [
      "Test accuracy = 0.880\n",
      "Average subspace size: 3.16\n"
     ]
    }
   ],
   "source": [
    "# Base learner = kNN with default hyper-parameters\n",
    "from sklearn.neighbors import KNeighborsClassifier\n",
    "estimator = KNeighborsClassifier\n",
    "estimator_kwargs = dict()\n",
    "\n",
    "from PRS import PRS\n",
    "\n",
    "# The number of epochs is set here to 100 to speed up the tutorial,\n",
    "# but this hyper-parameter should be higher in practice\n",
    "alphas, objective_values_LS, objective_values_VS, train_indices, yVSpred, yTSpred = PRS(XLS, yLS,\n",
    "                                                                                        XVS, yVS,\n",
    "                                                                                        estimator, estimator_kwargs,\n",
    "                                                                                        XTS=XTS, isClassification=True,\n",
    "                                                                                        nmodels=100,\n",
    "                                                                                        nepochs=100)\n",
    "\n",
    "# Accuracy on test set\n",
    "print('Test accuracy = %.3f' % accuracy_score(yTS, yTSpred))\n",
    "\n",
    "# Average number of features selected per base model\n",
    "print('Average subspace size: %.2f' % np.sum(alphas))"
   ]
  },
  {
   "cell_type": "markdown",
   "metadata": {},
   "source": [
    "### Plot objective function value across epochs"
   ]
  },
  {
   "cell_type": "code",
   "execution_count": 5,
   "metadata": {},
   "outputs": [
    {
     "data": {
      "image/png": "[encoded data removed]",
      "text/plain": [
       "<Figure size 432x288 with 1 Axes>"
      ]
     },
     "metadata": {
      "needs_background": "light"
     },
     "output_type": "display_data"
    }
   ],
   "source": [
    "plt.plot(objective_values_LS, label='LS')\n",
    "plt.plot(objective_values_VS, label='VS')\n",
    "plt.xlabel('Epochs')\n",
    "plt.ylabel('Objective function value')\n",
    "plt.legend()\n",
    "plt.show()"
   ]
  },
  {
   "cell_type": "markdown",
   "metadata": {},
   "source": [
    "### Alphas (feature importances)"
   ]
  },
  {
   "cell_type": "code",
   "execution_count": 6,
   "metadata": {},
   "outputs": [
    {
     "data": {
      "image/png": "[encoded data removed]",
      "text/plain": [
       "<Figure size 432x288 with 1 Axes>"
      ]
     },
     "metadata": {
      "needs_background": "light"
     },
     "output_type": "display_data"
    },
    {
     "name": "stdout",
     "output_type": "stream",
     "text": [
      "Feature ranking AUPR = 1.000\n"
     ]
    }
   ],
   "source": [
    "# Plot alphas\n",
    "plt.stem(alphas, use_line_collection=True)\n",
    "plt.xticks(np.arange(n_features), ['X%d' % i for i in range(1, n_features+1)])\n",
    "plt.xlabel('Features')\n",
    "plt.ylabel('alphas')\n",
    "plt.show()\n",
    "\n",
    "# AUPR of feature ranking\n",
    "AUPR = average_precision_score(indices_relevant_features, alphas)\n",
    "print('Feature ranking AUPR = %.3f' % AUPR)"
   ]
  },
  {
   "cell_type": "markdown",
   "metadata": {},
   "source": [
    "# Baseline methods"
   ]
  },
  {
   "cell_type": "code",
   "execution_count": 7,
   "metadata": {},
   "outputs": [],
   "source": [
    "from baselines import RF, GBDT, RS"
   ]
  },
  {
   "cell_type": "markdown",
   "metadata": {},
   "source": [
    "### Random forest"
   ]
  },
  {
   "cell_type": "code",
   "execution_count": 8,
   "metadata": {},
   "outputs": [
    {
     "name": "stdout",
     "output_type": "stream",
     "text": [
      "Best hyper-parameter K: 3\n",
      "Test accuracy = 0.930\n",
      "Feature ranking AUPR = 1.000\n"
     ]
    },
    {
     "data": {
      "image/png": "[encoded data removed]",
      "text/plain": [
       "<Figure size 432x288 with 1 Axes>"
      ]
     },
     "metadata": {
      "needs_background": "light"
     },
     "output_type": "display_data"
    }
   ],
   "source": [
    "selected_K, yTSpred, feat_importances = RF(XLS, yLS, XVS, yVS, XTS,\n",
    "                                           isClassification=True,\n",
    "                                           nmodels=100, normalize_data=True)\n",
    "\n",
    "# Number of features randomly sampled at each test node, optimized on the validation set\n",
    "print('Best hyper-parameter K: %d' % selected_K)\n",
    "\n",
    "# Accuracy on test set\n",
    "print('Test accuracy = %.3f' % accuracy_score(yTS, yTSpred))\n",
    "\n",
    "# AUPR of feature ranking\n",
    "AUPR = average_precision_score(indices_relevant_features, feat_importances)\n",
    "print('Feature ranking AUPR = %.3f' % AUPR)\n",
    "\n",
    "# Plot feature importances\n",
    "plt.stem(feat_importances, use_line_collection=True)\n",
    "plt.xticks(np.arange(n_features), ['X%d' % i for i in range(1, n_features+1)])\n",
    "plt.xlabel('Features')\n",
    "plt.ylabel('Importances')\n",
    "plt.show()"
   ]
  },
  {
   "cell_type": "markdown",
   "metadata": {},
   "source": [
    "### Gradient boosting decision trees"
   ]
  },
  {
   "cell_type": "code",
   "execution_count": 9,
   "metadata": {},
   "outputs": [
    {
     "name": "stdout",
     "output_type": "stream",
     "text": [
      "Best hyper-parameter max_depth: 7\n",
      "Test accuracy = 0.920\n",
      "Feature ranking AUPR = 0.943\n"
     ]
    },
    {
     "data": {
      "image/png": "[encoded data removed]",
      "text/plain": [
       "<Figure size 432x288 with 1 Axes>"
      ]
     },
     "metadata": {
      "needs_background": "light"
     },
     "output_type": "display_data"
    }
   ],
   "source": [
    "selected_max_depth, yTSpred, feat_importances = GBDT(XLS, yLS, XVS, yVS, XTS,\n",
    "                                                     isClassification=True,\n",
    "                                                     nmodels=100, normalize_data=True)\n",
    "\n",
    "# Maximum tree depth, optimized on the validation set\n",
    "print('Best hyper-parameter max_depth: %d' % selected_max_depth)\n",
    "\n",
    "# Accuracy on test set\n",
    "print('Test accuracy = %.3f' % accuracy_score(yTS, yTSpred))\n",
    "\n",
    "# AUPR of feature ranking\n",
    "AUPR = average_precision_score(indices_relevant_features, feat_importances)\n",
    "print('Feature ranking AUPR = %.3f' % AUPR)\n",
    "\n",
    "# Plot feature importances\n",
    "plt.stem(feat_importances, use_line_collection=True)\n",
    "plt.xticks(np.arange(n_features), ['X%d' % i for i in range(1, n_features+1)])\n",
    "plt.xlabel('Features')\n",
    "plt.ylabel('Importances')\n",
    "plt.show()"
   ]
  },
  {
   "cell_type": "markdown",
   "metadata": {},
   "source": [
    "### Random subspace"
   ]
  },
  {
   "cell_type": "code",
   "execution_count": 10,
   "metadata": {},
   "outputs": [
    {
     "name": "stdout",
     "output_type": "stream",
     "text": [
      "Best subspace size: 3\n",
      "Test accuracy = 0.890\n"
     ]
    }
   ],
   "source": [
    "# Base learner = kNN with default hyper-parameters\n",
    "from sklearn.neighbors import KNeighborsClassifier\n",
    "estimator = KNeighborsClassifier\n",
    "estimator_kwargs = dict()\n",
    "    \n",
    "selected_K, yTSpred = RS(XLS, yLS, XVS, yVS, XTS,\n",
    "                         estimator, estimator_kwargs,\n",
    "                         isClassification=True, nmodels=100, normalize_data=True)\n",
    "\n",
    "# Number of features randomly sampled for each base model, optimized on the validation set\n",
    "print('Best subspace size: %d' % selected_K)\n",
    "\n",
    "# Accuracy on test set\n",
    "print('Test accuracy = %.3f' % accuracy_score(yTS, yTSpred))"
   ]
  },
  {
   "cell_type": "markdown",
   "metadata": {},
   "source": [
    "# RaSE\n",
    "\n",
    "**rase**(*XLS, yLS, XVS, yVS, estimator, estimator_kwargs, isClassification, nmodels=100, B=500, D=None, niterations=10, C0=0.1, XTS=None, normalize_data=True, tune_decision_cutoff=False, random_seed=100, nthreads=1*)\n",
    "              \n",
    "### Input arguments of `rase`:\n",
    "\n",
    "**XLS**: Array of shape (n_samples_LS, n_features). Training input samples.\n",
    "\n",
    "**yLS**: Array of shape (n_samples_LS,). Training output samples.\n",
    "\n",
    "**XVS**: Array of shape (n_samples_VS, n_features). Validation input samples.\n",
    "\n",
    "**yVS**: Array of shape (n_samples_VS,). Validation output samples.\n",
    "\n",
    "**estimator**: scikit-learn learner class (type of base learner).\n",
    "\n",
    "**estimator_kwargs**: dictionary containing the hyper-parameters of the estimator. The dictionary does not need to contain all the hyper-parameter values. When a hyper-parameter is missing from the dictionary, it is set to the default value used by scikit-learn.\n",
    "\n",
    "**isClassification**: Boolean indicating if this is a classification problem or not (otherwise it is a regression problem).\n",
    "\n",
    "**nmodels**: *int*. Number of base models in the ensemble. default=100\n",
    "\n",
    "**B**: *int*. Number of subspace candidates generated for each base model. default=500\n",
    "\n",
    "**D**: *int*. Maximal subspace size when generating random subspaces. If None, D is set to min(sqrt(n_samples_LS), nfeatures). default=_None_\n",
    "\n",
    "**niterations**: *int*. Number of iterations. default=10\n",
    "\n",
    "**C0**: *float*. Positive constant used to set the minimum feature selection probability. default=0.1\n",
    "\n",
    "**XTS**: Array of shape (n_samples_TS, n_features). Test input samples. default=_None_\n",
    "\n",
    "**normalize_data**: Boolean indicating if input data must be normalized. default=_True_**\n",
    "\n",
    "**tune_decision_cutoff**: Boolean indicating if the decision cutoff must be tuned like in the original RaSE method (only for classification). default=_False_\n",
    "\n",
    "**random_seed**: *int*. Random seed. default=100\n",
    "\n",
    "**nthreads**: *int*. Number of threads used for parallel computing. default=1\n",
    "\n",
    "### Output of `rase`:\n",
    "Tuple *(feat_importances, feat_subset_sizes, yTSpred)*.\n",
    "\n",
    "**feat_importances**: Array of shape (n_features,). Feature importances.\n",
    "\n",
    "**feat_subset_sizes**: Array of shape (nmodels,). Number of sampled features for each base model.\n",
    "\n",
    "**yTSpred**: Array of shape (n_samples_TS, ). Predictions of the of the trained PRS model on the test set. yTSpred=numpy.nan if XTS is None.\n"
   ]
  },
  {
   "cell_type": "code",
   "execution_count": 11,
   "metadata": {},
   "outputs": [
    {
     "name": "stdout",
     "output_type": "stream",
     "text": [
      "Test accuracy = 0.900\n",
      "Average subspace size: 6.10\n"
     ]
    }
   ],
   "source": [
    "# Base learner = kNN with default hyper-parameters\n",
    "from sklearn.neighbors import KNeighborsClassifier\n",
    "estimator = KNeighborsClassifier\n",
    "estimator_kwargs = dict()\n",
    "\n",
    "from rase import rase\n",
    "\n",
    "# The input arguments nmodels and B are set to small values here to speed up the tutorial,\n",
    "# but should be increased in practice\n",
    "feat_importances, feat_subset_sizes, yTSpred = rase(XLS, yLS, XVS, yVS, estimator, estimator_kwargs, XTS=XTS,\n",
    "                                                    isClassification=True, nmodels=10, B=50,\n",
    "                                                    niterations=3, normalize_data=True,\n",
    "                                                    tune_decision_cutoff=False)\n",
    "\n",
    "# Accuracy on test set\n",
    "print('Test accuracy = %.3f' % accuracy_score(yTS, yTSpred))\n",
    "\n",
    "# Average subspace size\n",
    "print('Average subspace size: %.2f' % np.mean(feat_subset_sizes))"
   ]
  },
  {
   "cell_type": "markdown",
   "metadata": {},
   "source": [
    "### Feature importances"
   ]
  },
  {
   "cell_type": "code",
   "execution_count": 12,
   "metadata": {},
   "outputs": [
    {
     "data": {
      "image/png": "[encoded data removed]",
      "text/plain": [
       "<Figure size 432x288 with 1 Axes>"
      ]
     },
     "metadata": {
      "needs_background": "light"
     },
     "output_type": "display_data"
    },
    {
     "name": "stdout",
     "output_type": "stream",
     "text": [
      "Feature ranking AUPR = 0.925\n"
     ]
    }
   ],
   "source": [
    "# Plot feature importances\n",
    "plt.stem(feat_importances, use_line_collection=True)\n",
    "plt.xticks(np.arange(n_features), ['X%d' % i for i in range(1, n_features+1)])\n",
    "plt.xlabel('Features')\n",
    "plt.ylabel('Importances')\n",
    "plt.show()\n",
    "\n",
    "# AUPR of feature ranking\n",
    "AUPR = average_precision_score(indices_relevant_features, feat_importances)\n",
    "print('Feature ranking AUPR = %.3f' % AUPR)"
   ]
  },
  {
   "cell_type": "code",
   "execution_count": null,
   "metadata": {},
   "outputs": [],
   "source": []
  }
 ],
 "metadata": {
  "kernelspec": {
   "display_name": "Python 3 (ipykernel)",
   "language": "python",
   "name": "python3"
  },
  "language_info": {
   "codemirror_mode": {
    "name": "ipython",
    "version": 3
   },
   "file_extension": ".py",
   "mimetype": "text/x-python",
   "name": "python",
   "nbconvert_exporter": "python",
   "pygments_lexer": "ipython3",
   "version": "3.9.7"
  }
 },
 "nbformat": 4,
 "nbformat_minor": 4
}

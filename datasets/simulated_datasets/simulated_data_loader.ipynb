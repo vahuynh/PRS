{
 "cells": [
  {
   "cell_type": "markdown",
   "metadata": {},
   "source": [
    "# Load data"
   ]
  },
  {
   "cell_type": "code",
   "execution_count": 1,
   "metadata": {},
   "outputs": [],
   "source": [
    "import _pickle\n",
    "\n",
    "with open('hypercube/hypercube_1_LS.pkl', 'rb') as f:\n",
    "    (XLS, yLS) = _pickle.load(f)\n",
    "    \n",
    "with open('hypercube/hypercube_1_VS.pkl', 'rb') as f:\n",
    "    (XVS, yVS) = _pickle.load(f)\n",
    "    \n",
    "with open('hypercube/hypercube_1_TS.pkl', 'rb') as f:\n",
    "    (XTS, yTS) = _pickle.load(f)\n",
    "    "
   ]
  },
  {
   "cell_type": "markdown",
   "metadata": {},
   "source": [
    "XLS = training set inputs, yLS = training set outputs\n",
    "\n",
    "XVS = validation set inputs, yVS = validation set outputs\n",
    "\n",
    "XTS = test set inputs, yTS = test set outputs"
   ]
  },
  {
   "cell_type": "markdown",
   "metadata": {},
   "source": [
    "# Indices of relevant features for each problem\n",
    "For each problem type, the indices of the relevant features are the same for each dataset."
   ]
  },
  {
   "cell_type": "code",
   "execution_count": 2,
   "metadata": {},
   "outputs": [],
   "source": [
    "idx_relevant_checkerboard = [50, 100, 150, 200]\n",
    "idx_relevant_friedman = [50, 100, 150, 200, 250]\n",
    "idx_relevant_hypercube = [50, 100, 150, 200, 250]\n",
    "idx_relevant_linear = list(range(10))"
   ]
  },
  {
   "cell_type": "code",
   "execution_count": null,
   "metadata": {},
   "outputs": [],
   "source": []
  }
 ],
 "metadata": {
  "kernelspec": {
   "display_name": "Python 3 (ipykernel)",
   "language": "python",
   "name": "python3"
  },
  "language_info": {
   "codemirror_mode": {
    "name": "ipython",
    "version": 3
   },
   "file_extension": ".py",
   "mimetype": "text/x-python",
   "name": "python",
   "nbconvert_exporter": "python",
   "pygments_lexer": "ipython3",
   "version": "3.9.7"
  }
 },
 "nbformat": 4,
 "nbformat_minor": 4
}

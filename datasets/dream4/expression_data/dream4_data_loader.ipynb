{
 "cells": [
  {
   "cell_type": "markdown",
   "metadata": {},
   "source": [
    "# Load DREAM4 gene expression datasets"
   ]
  },
  {
   "cell_type": "code",
   "execution_count": 1,
   "metadata": {},
   "outputs": [
    {
     "name": "stdout",
     "output_type": "stream",
     "text": [
      "(90, 100)\n",
      "(10, 100)\n"
     ]
    }
   ],
   "source": [
    "import _pickle\n",
    "\n",
    "with open('net1_data.pkl', 'rb') as f:\n",
    "    (data_LS, data_VS) = _pickle.load(f)\n",
    "    \n",
    "print(data_LS.shape)\n",
    "print(data_VS.shape)"
   ]
  },
  {
   "cell_type": "markdown",
   "metadata": {},
   "source": [
    "data_LS: training set\n",
    "\n",
    "data_VS: validation set\n",
    "\n",
    "Each line in a dataset is a sample and each column is a gene."
   ]
  },
  {
   "cell_type": "code",
   "execution_count": null,
   "metadata": {},
   "outputs": [],
   "source": []
  }
 ],
 "metadata": {
  "kernelspec": {
   "display_name": "Python 3 (ipykernel)",
   "language": "python",
   "name": "python3"
  },
  "language_info": {
   "codemirror_mode": {
    "name": "ipython",
    "version": 3
   },
   "file_extension": ".py",
   "mimetype": "text/x-python",
   "name": "python",
   "nbconvert_exporter": "python",
   "pygments_lexer": "ipython3",
   "version": "3.9.7"
  }
 },
 "nbformat": 4,
 "nbformat_minor": 4
}

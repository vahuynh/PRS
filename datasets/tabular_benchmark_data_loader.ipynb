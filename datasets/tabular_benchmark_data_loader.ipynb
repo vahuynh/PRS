{
 "cells": [
  {
   "cell_type": "code",
   "execution_count": 1,
   "id": "51ebc691",
   "metadata": {},
   "outputs": [],
   "source": [
    "import sys\n",
    "sys.path.insert(0, '../code')\n",
    "\n",
    "from tabular_data import tabular_data"
   ]
  },
  {
   "cell_type": "markdown",
   "id": "49c4746b",
   "metadata": {},
   "source": [
    "### Download a tabular dataset and sample training, validation and test sets."
   ]
  },
  {
   "cell_type": "code",
   "execution_count": 2,
   "id": "dd66b869",
   "metadata": {},
   "outputs": [
    {
     "name": "stdout",
     "output_type": "stream",
     "text": [
      "Dataset name: credit\n",
      "dict_keys(['XLS', 'yLS', 'XVS', 'yVS', 'XTS', 'yTS'])\n"
     ]
    }
   ],
   "source": [
    "# Index of dataset in the benchmark\n",
    "# There are:\n",
    "# - 20 datasets in the regression benchmark, with only numerical features\n",
    "# - 13 datasets in the regression benchmark, with both numerical and categorical features\n",
    "# - 15 datasets in the classification benchmark, with only numerical features\n",
    "# - 7 datasets in the classification benchmark, with both numerical and categorical features\n",
    "dataset_idx = 0\n",
    "\n",
    "# Integer specifying the random seed for the data sampling. \n",
    "# For the experiments in the paper, we set random_state in range(10)\n",
    "random_state = 0\n",
    "\n",
    "# Boolean specifying whether it is a classification problem (otherwise it is a regression problem).\n",
    "isClassification = True\n",
    "\n",
    "# Boolean specifying whether we want the benchmark with datasets that include categorical features.\n",
    "with_categorical_features = False\n",
    "\n",
    "# Sizes of training, validation and test set\n",
    "LSsize = 1000\n",
    "VSsize = 1000\n",
    "TSsize = 1000\n",
    "\n",
    "dataset_name, data = tabular_data(dataset_idx=dataset_idx,\n",
    "                                  random_state=random_state,\n",
    "                                  isClassification=isClassification,\n",
    "                                  with_categorical_features=with_categorical_features,\n",
    "                                  LSsize=LSsize, VSsize=VSsize, TSsize=TSsize)\n",
    "\n",
    "print('Dataset name: %s' % dataset_name)\n",
    "print(data.keys())"
   ]
  },
  {
   "cell_type": "markdown",
   "id": "e892c3da",
   "metadata": {},
   "source": [
    "*data* is a dictionary containing the data:\n",
    "- data['XLS']: inputs of the training set\n",
    "- data['yLS']: outputs of the training set\n",
    "- data['XVS']: inputs of the validation set\n",
    "- data['yVS']: outputs of the validation set\n",
    "- data['XTS']: inputs of the test set\n",
    "- data['yTS']: outputs of the test set"
   ]
  },
  {
   "cell_type": "code",
   "execution_count": null,
   "id": "aadf14b2",
   "metadata": {},
   "outputs": [],
   "source": []
  }
 ],
 "metadata": {
  "kernelspec": {
   "display_name": "Python 3 (ipykernel)",
   "language": "python",
   "name": "python3"
  },
  "language_info": {
   "codemirror_mode": {
    "name": "ipython",
    "version": 3
   },
   "file_extension": ".py",
   "mimetype": "text/x-python",
   "name": "python",
   "nbconvert_exporter": "python",
   "pygments_lexer": "ipython3",
   "version": "3.9.7"
  }
 },
 "nbformat": 4,
 "nbformat_minor": 5
}
